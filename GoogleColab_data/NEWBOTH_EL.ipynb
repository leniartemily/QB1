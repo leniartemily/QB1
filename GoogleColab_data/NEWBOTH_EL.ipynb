{
  "nbformat": 4,
  "nbformat_minor": 0,
  "metadata": {
    "kernelspec": {
      "display_name": "Python 3",
      "language": "python",
      "name": "python3"
    },
    "language_info": {
      "codemirror_mode": {
        "name": "ipython",
        "version": 3
      },
      "file_extension": ".py",
      "mimetype": "text/x-python",
      "name": "python",
      "nbconvert_exporter": "python",
      "pygments_lexer": "ipython3",
      "version": "3.8.5"
    },
    "colab": {
      "name": "NEWBOTH_EL",
      "provenance": [],
      "collapsed_sections": []
    }
  },
  "cells": [
    {
      "cell_type": "code",
      "metadata": {
        "colab": {
          "base_uri": "https://localhost:8080/"
        },
        "id": "AcDJULM-fprv",
        "outputId": "e5f82f47-411e-4df0-dff4-acc08fbcba29"
      },
      "source": [
        "import os\n",
        "# Find the latest version of spark 3.0  from http://www.apache.org/dist/spark/ and enter as the spark version\n",
        "# For example:\n",
        "# spark_version = 'spark-3.0.3'\n",
        "spark_version = 'spark-3.0.3'\n",
        "os.environ['SPARK_VERSION']=spark_version\n",
        "\n",
        "# Install Spark and Java\n",
        "!apt-get update\n",
        "!apt-get install openjdk-11-jdk-headless -qq > /dev/null\n",
        "!wget -q http://www.apache.org/dist/spark/$SPARK_VERSION/$SPARK_VERSION-bin-hadoop2.7.tgz\n",
        "!tar xf $SPARK_VERSION-bin-hadoop2.7.tgz\n",
        "!pip install -q findspark\n",
        "\n",
        "# Set Environment Variables\n",
        "os.environ[\"JAVA_HOME\"] = \"/usr/lib/jvm/java-11-openjdk-amd64\"\n",
        "os.environ[\"SPARK_HOME\"] = f\"/content/{spark_version}-bin-hadoop2.7\"\n",
        "\n",
        "# Start a SparkSession\n",
        "import findspark\n",
        "findspark.init()"
      ],
      "execution_count": 1,
      "outputs": [
        {
          "output_type": "stream",
          "name": "stdout",
          "text": [
            "\r0% [Working]\r            \rGet:1 http://security.ubuntu.com/ubuntu bionic-security InRelease [88.7 kB]\n",
            "\r0% [Connecting to archive.ubuntu.com (91.189.88.142)] [1 InRelease 0 B/88.7 kB \r                                                                               \rGet:2 https://cloud.r-project.org/bin/linux/ubuntu bionic-cran40/ InRelease [3,626 B]\n",
            "Ign:3 https://developer.download.nvidia.com/compute/cuda/repos/ubuntu1804/x86_64  InRelease\n",
            "Ign:4 https://developer.download.nvidia.com/compute/machine-learning/repos/ubuntu1804/x86_64  InRelease\n",
            "Hit:5 https://developer.download.nvidia.com/compute/cuda/repos/ubuntu1804/x86_64  Release\n",
            "Hit:6 https://developer.download.nvidia.com/compute/machine-learning/repos/ubuntu1804/x86_64  Release\n",
            "Hit:7 http://archive.ubuntu.com/ubuntu bionic InRelease\n",
            "Get:8 http://archive.ubuntu.com/ubuntu bionic-updates InRelease [88.7 kB]\n",
            "Get:9 https://cloud.r-project.org/bin/linux/ubuntu bionic-cran40/ Packages [67.4 kB]\n",
            "Get:10 http://security.ubuntu.com/ubuntu bionic-security/main amd64 Packages [2,335 kB]\n",
            "Get:11 http://archive.ubuntu.com/ubuntu bionic-backports InRelease [74.6 kB]\n",
            "Get:12 http://security.ubuntu.com/ubuntu bionic-security/universe amd64 Packages [1,428 kB]\n",
            "Get:13 http://security.ubuntu.com/ubuntu bionic-security/restricted amd64 Packages [581 kB]\n",
            "Get:14 http://ppa.launchpad.net/c2d4u.team/c2d4u4.0+/ubuntu bionic InRelease [15.9 kB]\n",
            "Get:17 http://archive.ubuntu.com/ubuntu bionic-updates/universe amd64 Packages [2,202 kB]\n",
            "Hit:18 http://ppa.launchpad.net/cran/libgit2/ubuntu bionic InRelease\n",
            "Hit:19 http://ppa.launchpad.net/deadsnakes/ppa/ubuntu bionic InRelease\n",
            "Hit:20 http://ppa.launchpad.net/graphics-drivers/ppa/ubuntu bionic InRelease\n",
            "Get:21 http://ppa.launchpad.net/c2d4u.team/c2d4u4.0+/ubuntu bionic/main Sources [1,802 kB]\n",
            "Get:22 http://ppa.launchpad.net/c2d4u.team/c2d4u4.0+/ubuntu bionic/main amd64 Packages [922 kB]\n",
            "Get:23 http://archive.ubuntu.com/ubuntu bionic-updates/restricted amd64 Packages [613 kB]\n",
            "Get:24 http://archive.ubuntu.com/ubuntu bionic-updates/main amd64 Packages [2,770 kB]\n",
            "Fetched 13.0 MB in 27s (483 kB/s)\n",
            "Reading package lists... Done\n"
          ]
        }
      ]
    },
    {
      "cell_type": "code",
      "metadata": {
        "id": "iKuditxhfprx"
      },
      "source": [
        "# Start Spark session\n",
        "from pyspark.sql import SparkSession\n",
        "spark = SparkSession.builder.appName(\"UDF\").getOrCreate()"
      ],
      "execution_count": 7,
      "outputs": []
    },
    {
      "cell_type": "code",
      "metadata": {
        "id": "kj-JF_sqfprz"
      },
      "source": [
        "from pyspark.ml.feature import Tokenizer\n",
        "from pyspark.sql.functions import col, udf\n",
        "from pyspark.sql.types import IntegerType\n"
      ],
      "execution_count": 8,
      "outputs": []
    },
    {
      "cell_type": "code",
      "metadata": {
        "colab": {
          "resources": {
            "http://localhost:8080/nbextensions/google.colab/files.js": {
              "data": "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",
              "ok": true,
              "headers": [
                [
                  "content-type",
                  "application/javascript"
                ]
              ],
              "status": 200,
              "status_text": ""
            }
          },
          "base_uri": "https://localhost:8080/",
          "height": 73
        },
        "id": "-ia8FLCvjl4H",
        "outputId": "aba30a68-629b-475d-bffd-bdf2a41c73e8"
      },
      "source": [
        "from google.colab import files\n",
        "\n",
        "uploaded = files.upload()"
      ],
      "execution_count": 9,
      "outputs": [
        {
          "output_type": "display_data",
          "data": {
            "text/html": [
              "\n",
              "     <input type=\"file\" id=\"files-55cb37f5-1dc7-4829-8315-2628bb64aa84\" name=\"files[]\" multiple disabled\n",
              "        style=\"border:none\" />\n",
              "     <output id=\"result-55cb37f5-1dc7-4829-8315-2628bb64aa84\">\n",
              "      Upload widget is only available when the cell has been executed in the\n",
              "      current browser session. Please rerun this cell to enable.\n",
              "      </output>\n",
              "      <script src=\"/nbextensions/google.colab/files.js\"></script> "
            ],
            "text/plain": [
              "<IPython.core.display.HTML object>"
            ]
          },
          "metadata": {}
        },
        {
          "output_type": "stream",
          "name": "stdout",
          "text": [
            "Saving NFL_BOTH.csv to NFL_BOTH.csv\n"
          ]
        }
      ]
    },
    {
      "cell_type": "code",
      "metadata": {
        "colab": {
          "base_uri": "https://localhost:8080/",
          "height": 224
        },
        "id": "MvpBoN8ugKTc",
        "outputId": "c53f925b-ff4b-4548-9689-40e6899fb265"
      },
      "source": [
        "import pandas as pd\n",
        "import io\n",
        "  \n",
        "df = pd.read_csv('NFL_BOTH.csv', header= 0,\n",
        "                        encoding= 'unicode_escape')\n",
        "df.head()"
      ],
      "execution_count": 10,
      "outputs": [
        {
          "output_type": "execute_result",
          "data": {
            "text/html": [
              "<div>\n",
              "<style scoped>\n",
              "    .dataframe tbody tr th:only-of-type {\n",
              "        vertical-align: middle;\n",
              "    }\n",
              "\n",
              "    .dataframe tbody tr th {\n",
              "        vertical-align: top;\n",
              "    }\n",
              "\n",
              "    .dataframe thead th {\n",
              "        text-align: right;\n",
              "    }\n",
              "</style>\n",
              "<table border=\"1\" class=\"dataframe\">\n",
              "  <thead>\n",
              "    <tr style=\"text-align: right;\">\n",
              "      <th></th>\n",
              "      <th>ï»¿Year</th>\n",
              "      <th>ACC</th>\n",
              "      <th>Big_Ten</th>\n",
              "      <th>Big_12</th>\n",
              "      <th>Pac_12</th>\n",
              "      <th>SEC</th>\n",
              "      <th>Other</th>\n",
              "      <th>Height_IN</th>\n",
              "      <th>Weight_LBS</th>\n",
              "      <th>Wonderlic</th>\n",
              "      <th>40_Yard</th>\n",
              "      <th>Bench_Press</th>\n",
              "      <th>Vert_Leap_IN</th>\n",
              "      <th>Broad_Jump_IN</th>\n",
              "      <th>Shuttle</th>\n",
              "      <th>3Cone</th>\n",
              "      <th>Started</th>\n",
              "    </tr>\n",
              "  </thead>\n",
              "  <tbody>\n",
              "    <tr>\n",
              "      <th>0</th>\n",
              "      <td>2020</td>\n",
              "      <td>0</td>\n",
              "      <td>0</td>\n",
              "      <td>0</td>\n",
              "      <td>1</td>\n",
              "      <td>0</td>\n",
              "      <td>0</td>\n",
              "      <td>78.13</td>\n",
              "      <td>224</td>\n",
              "      <td>NaN</td>\n",
              "      <td>5.07</td>\n",
              "      <td>NaN</td>\n",
              "      <td>28.5</td>\n",
              "      <td>NaN</td>\n",
              "      <td>4.60</td>\n",
              "      <td>7.85</td>\n",
              "      <td>Yes</td>\n",
              "    </tr>\n",
              "    <tr>\n",
              "      <th>1</th>\n",
              "      <td>2019</td>\n",
              "      <td>0</td>\n",
              "      <td>0</td>\n",
              "      <td>0</td>\n",
              "      <td>0</td>\n",
              "      <td>1</td>\n",
              "      <td>0</td>\n",
              "      <td>76.63</td>\n",
              "      <td>226</td>\n",
              "      <td>NaN</td>\n",
              "      <td>4.64</td>\n",
              "      <td>NaN</td>\n",
              "      <td>29.5</td>\n",
              "      <td>115.0</td>\n",
              "      <td>4.56</td>\n",
              "      <td>7.42</td>\n",
              "      <td>No</td>\n",
              "    </tr>\n",
              "    <tr>\n",
              "      <th>2</th>\n",
              "      <td>2019</td>\n",
              "      <td>0</td>\n",
              "      <td>0</td>\n",
              "      <td>0</td>\n",
              "      <td>1</td>\n",
              "      <td>0</td>\n",
              "      <td>0</td>\n",
              "      <td>73.50</td>\n",
              "      <td>202</td>\n",
              "      <td>NaN</td>\n",
              "      <td>4.93</td>\n",
              "      <td>NaN</td>\n",
              "      <td>27.0</td>\n",
              "      <td>NaN</td>\n",
              "      <td>NaN</td>\n",
              "      <td>NaN</td>\n",
              "      <td>No</td>\n",
              "    </tr>\n",
              "    <tr>\n",
              "      <th>3</th>\n",
              "      <td>2019</td>\n",
              "      <td>0</td>\n",
              "      <td>0</td>\n",
              "      <td>0</td>\n",
              "      <td>0</td>\n",
              "      <td>0</td>\n",
              "      <td>1</td>\n",
              "      <td>75.25</td>\n",
              "      <td>233</td>\n",
              "      <td>NaN</td>\n",
              "      <td>5.22</td>\n",
              "      <td>NaN</td>\n",
              "      <td>NaN</td>\n",
              "      <td>NaN</td>\n",
              "      <td>4.68</td>\n",
              "      <td>NaN</td>\n",
              "      <td>No</td>\n",
              "    </tr>\n",
              "    <tr>\n",
              "      <th>4</th>\n",
              "      <td>2019</td>\n",
              "      <td>0</td>\n",
              "      <td>0</td>\n",
              "      <td>0</td>\n",
              "      <td>0</td>\n",
              "      <td>0</td>\n",
              "      <td>1</td>\n",
              "      <td>72.75</td>\n",
              "      <td>206</td>\n",
              "      <td>NaN</td>\n",
              "      <td>4.76</td>\n",
              "      <td>NaN</td>\n",
              "      <td>35.0</td>\n",
              "      <td>110.0</td>\n",
              "      <td>4.32</td>\n",
              "      <td>NaN</td>\n",
              "      <td>No</td>\n",
              "    </tr>\n",
              "  </tbody>\n",
              "</table>\n",
              "</div>"
            ],
            "text/plain": [
              "   ï»¿Year  ACC  Big_Ten  Big_12  ...  Broad_Jump_IN  Shuttle  3Cone  Started\n",
              "0     2020    0        0       0  ...            NaN     4.60   7.85      Yes\n",
              "1     2019    0        0       0  ...          115.0     4.56   7.42       No\n",
              "2     2019    0        0       0  ...            NaN      NaN    NaN       No\n",
              "3     2019    0        0       0  ...            NaN     4.68    NaN       No\n",
              "4     2019    0        0       0  ...          110.0     4.32    NaN       No\n",
              "\n",
              "[5 rows x 17 columns]"
            ]
          },
          "metadata": {},
          "execution_count": 10
        }
      ]
    },
    {
      "cell_type": "code",
      "metadata": {
        "colab": {
          "base_uri": "https://localhost:8080/"
        },
        "id": "a_zR0avslJfr",
        "outputId": "73e2f1d7-1da1-4324-b221-5928284656e5"
      },
      "source": [
        "df.info()\n"
      ],
      "execution_count": 11,
      "outputs": [
        {
          "output_type": "stream",
          "name": "stdout",
          "text": [
            "<class 'pandas.core.frame.DataFrame'>\n",
            "RangeIndex: 54 entries, 0 to 53\n",
            "Data columns (total 17 columns):\n",
            " #   Column         Non-Null Count  Dtype  \n",
            "---  ------         --------------  -----  \n",
            " 0   ï»¿Year        54 non-null     int64  \n",
            " 1   ACC            54 non-null     int64  \n",
            " 2   Big_Ten        54 non-null     int64  \n",
            " 3   Big_12         54 non-null     int64  \n",
            " 4   Pac_12         54 non-null     int64  \n",
            " 5   SEC            54 non-null     int64  \n",
            " 6   Other          54 non-null     int64  \n",
            " 7   Height_IN      54 non-null     float64\n",
            " 8   Weight_LBS     54 non-null     int64  \n",
            " 9   Wonderlic      10 non-null     float64\n",
            " 10  40_Yard        53 non-null     float64\n",
            " 11  Bench_Press    6 non-null      float64\n",
            " 12  Vert_Leap_IN   47 non-null     float64\n",
            " 13  Broad_Jump_IN  44 non-null     float64\n",
            " 14  Shuttle        41 non-null     float64\n",
            " 15  3Cone          38 non-null     float64\n",
            " 16  Started        54 non-null     object \n",
            "dtypes: float64(8), int64(8), object(1)\n",
            "memory usage: 7.3+ KB\n"
          ]
        }
      ]
    },
    {
      "cell_type": "code",
      "metadata": {
        "id": "Er_cxAHgleFx"
      },
      "source": [
        "df.drop(columns=[\"Wonderlic\",\"Bench_Press\"],axis=1, inplace=True)"
      ],
      "execution_count": 12,
      "outputs": []
    },
    {
      "cell_type": "code",
      "metadata": {
        "id": "4rlPG7bgp2mD"
      },
      "source": [
        "df.drop(columns=[\"ï»¿Year\", \"ACC\", \"Big_Ten\", \"Big_12\", \"SEC\", \"Other\"],axis=1,inplace=True )"
      ],
      "execution_count": 15,
      "outputs": []
    },
    {
      "cell_type": "code",
      "metadata": {
        "id": "tlJOY7_hqeDS"
      },
      "source": [
        "df.drop(columns=[\"Pac_12\"],axis=1, inplace=True)"
      ],
      "execution_count": 17,
      "outputs": []
    },
    {
      "cell_type": "code",
      "metadata": {
        "colab": {
          "base_uri": "https://localhost:8080/"
        },
        "id": "L407oQall2Wy",
        "outputId": "3019e98f-6677-4c63-d628-6cd29b717aa1"
      },
      "source": [
        "df.dropna(inplace=True)\n",
        "df.info()"
      ],
      "execution_count": 18,
      "outputs": [
        {
          "output_type": "stream",
          "name": "stdout",
          "text": [
            "<class 'pandas.core.frame.DataFrame'>\n",
            "Int64Index: 32 entries, 1 to 52\n",
            "Data columns (total 8 columns):\n",
            " #   Column         Non-Null Count  Dtype  \n",
            "---  ------         --------------  -----  \n",
            " 0   Height_IN      32 non-null     float64\n",
            " 1   Weight_LBS     32 non-null     int64  \n",
            " 2   40_Yard        32 non-null     float64\n",
            " 3   Vert_Leap_IN   32 non-null     float64\n",
            " 4   Broad_Jump_IN  32 non-null     float64\n",
            " 5   Shuttle        32 non-null     float64\n",
            " 6   3Cone          32 non-null     float64\n",
            " 7   Started        32 non-null     object \n",
            "dtypes: float64(6), int64(1), object(1)\n",
            "memory usage: 2.2+ KB\n"
          ]
        }
      ]
    },
    {
      "cell_type": "code",
      "metadata": {
        "colab": {
          "base_uri": "https://localhost:8080/",
          "height": 1000
        },
        "id": "9rrn-CqIoiND",
        "outputId": "5a1fabd4-af5c-4092-90ce-0e95c459904b"
      },
      "source": [
        "X = pd.get_dummies(df)\n",
        "X"
      ],
      "execution_count": 19,
      "outputs": [
        {
          "output_type": "execute_result",
          "data": {
            "text/html": [
              "<div>\n",
              "<style scoped>\n",
              "    .dataframe tbody tr th:only-of-type {\n",
              "        vertical-align: middle;\n",
              "    }\n",
              "\n",
              "    .dataframe tbody tr th {\n",
              "        vertical-align: top;\n",
              "    }\n",
              "\n",
              "    .dataframe thead th {\n",
              "        text-align: right;\n",
              "    }\n",
              "</style>\n",
              "<table border=\"1\" class=\"dataframe\">\n",
              "  <thead>\n",
              "    <tr style=\"text-align: right;\">\n",
              "      <th></th>\n",
              "      <th>Height_IN</th>\n",
              "      <th>Weight_LBS</th>\n",
              "      <th>40_Yard</th>\n",
              "      <th>Vert_Leap_IN</th>\n",
              "      <th>Broad_Jump_IN</th>\n",
              "      <th>Shuttle</th>\n",
              "      <th>3Cone</th>\n",
              "      <th>Started_No</th>\n",
              "      <th>Started_Yes</th>\n",
              "    </tr>\n",
              "  </thead>\n",
              "  <tbody>\n",
              "    <tr>\n",
              "      <th>1</th>\n",
              "      <td>76.63</td>\n",
              "      <td>226</td>\n",
              "      <td>4.64</td>\n",
              "      <td>29.5</td>\n",
              "      <td>115.0</td>\n",
              "      <td>4.56</td>\n",
              "      <td>7.42</td>\n",
              "      <td>1</td>\n",
              "      <td>0</td>\n",
              "    </tr>\n",
              "    <tr>\n",
              "      <th>14</th>\n",
              "      <td>74.38</td>\n",
              "      <td>230</td>\n",
              "      <td>4.91</td>\n",
              "      <td>30.0</td>\n",
              "      <td>117.0</td>\n",
              "      <td>4.31</td>\n",
              "      <td>7.75</td>\n",
              "      <td>1</td>\n",
              "      <td>0</td>\n",
              "    </tr>\n",
              "    <tr>\n",
              "      <th>15</th>\n",
              "      <td>78.13</td>\n",
              "      <td>234</td>\n",
              "      <td>4.93</td>\n",
              "      <td>29.0</td>\n",
              "      <td>105.0</td>\n",
              "      <td>4.48</td>\n",
              "      <td>7.42</td>\n",
              "      <td>0</td>\n",
              "      <td>1</td>\n",
              "    </tr>\n",
              "    <tr>\n",
              "      <th>16</th>\n",
              "      <td>78.25</td>\n",
              "      <td>237</td>\n",
              "      <td>5.12</td>\n",
              "      <td>27.0</td>\n",
              "      <td>101.0</td>\n",
              "      <td>4.60</td>\n",
              "      <td>7.56</td>\n",
              "      <td>1</td>\n",
              "      <td>0</td>\n",
              "    </tr>\n",
              "    <tr>\n",
              "      <th>19</th>\n",
              "      <td>73.75</td>\n",
              "      <td>218</td>\n",
              "      <td>4.89</td>\n",
              "      <td>32.5</td>\n",
              "      <td>112.0</td>\n",
              "      <td>4.32</td>\n",
              "      <td>6.99</td>\n",
              "      <td>1</td>\n",
              "      <td>0</td>\n",
              "    </tr>\n",
              "    <tr>\n",
              "      <th>20</th>\n",
              "      <td>74.50</td>\n",
              "      <td>213</td>\n",
              "      <td>4.84</td>\n",
              "      <td>34.0</td>\n",
              "      <td>121.0</td>\n",
              "      <td>4.35</td>\n",
              "      <td>6.97</td>\n",
              "      <td>0</td>\n",
              "      <td>1</td>\n",
              "    </tr>\n",
              "    <tr>\n",
              "      <th>21</th>\n",
              "      <td>71.75</td>\n",
              "      <td>191</td>\n",
              "      <td>4.76</td>\n",
              "      <td>31.5</td>\n",
              "      <td>111.0</td>\n",
              "      <td>4.35</td>\n",
              "      <td>7.06</td>\n",
              "      <td>1</td>\n",
              "      <td>0</td>\n",
              "    </tr>\n",
              "    <tr>\n",
              "      <th>22</th>\n",
              "      <td>72.38</td>\n",
              "      <td>211</td>\n",
              "      <td>4.76</td>\n",
              "      <td>35.0</td>\n",
              "      <td>123.0</td>\n",
              "      <td>4.21</td>\n",
              "      <td>6.96</td>\n",
              "      <td>1</td>\n",
              "      <td>0</td>\n",
              "    </tr>\n",
              "    <tr>\n",
              "      <th>23</th>\n",
              "      <td>73.50</td>\n",
              "      <td>198</td>\n",
              "      <td>4.84</td>\n",
              "      <td>31.0</td>\n",
              "      <td>122.0</td>\n",
              "      <td>4.16</td>\n",
              "      <td>6.80</td>\n",
              "      <td>1</td>\n",
              "      <td>0</td>\n",
              "    </tr>\n",
              "    <tr>\n",
              "      <th>24</th>\n",
              "      <td>76.50</td>\n",
              "      <td>248</td>\n",
              "      <td>4.99</td>\n",
              "      <td>31.5</td>\n",
              "      <td>113.0</td>\n",
              "      <td>4.51</td>\n",
              "      <td>7.30</td>\n",
              "      <td>1</td>\n",
              "      <td>0</td>\n",
              "    </tr>\n",
              "    <tr>\n",
              "      <th>25</th>\n",
              "      <td>73.75</td>\n",
              "      <td>207</td>\n",
              "      <td>4.79</td>\n",
              "      <td>28.0</td>\n",
              "      <td>102.0</td>\n",
              "      <td>4.41</td>\n",
              "      <td>7.43</td>\n",
              "      <td>1</td>\n",
              "      <td>0</td>\n",
              "    </tr>\n",
              "    <tr>\n",
              "      <th>26</th>\n",
              "      <td>73.50</td>\n",
              "      <td>210</td>\n",
              "      <td>4.78</td>\n",
              "      <td>38.0</td>\n",
              "      <td>125.0</td>\n",
              "      <td>4.34</td>\n",
              "      <td>7.11</td>\n",
              "      <td>1</td>\n",
              "      <td>0</td>\n",
              "    </tr>\n",
              "    <tr>\n",
              "      <th>27</th>\n",
              "      <td>73.38</td>\n",
              "      <td>222</td>\n",
              "      <td>4.63</td>\n",
              "      <td>34.0</td>\n",
              "      <td>115.0</td>\n",
              "      <td>4.46</td>\n",
              "      <td>7.03</td>\n",
              "      <td>1</td>\n",
              "      <td>0</td>\n",
              "    </tr>\n",
              "    <tr>\n",
              "      <th>28</th>\n",
              "      <td>74.75</td>\n",
              "      <td>201</td>\n",
              "      <td>5.12</td>\n",
              "      <td>32.0</td>\n",
              "      <td>116.0</td>\n",
              "      <td>4.56</td>\n",
              "      <td>7.48</td>\n",
              "      <td>1</td>\n",
              "      <td>0</td>\n",
              "    </tr>\n",
              "    <tr>\n",
              "      <th>29</th>\n",
              "      <td>72.88</td>\n",
              "      <td>200</td>\n",
              "      <td>4.76</td>\n",
              "      <td>36.5</td>\n",
              "      <td>127.0</td>\n",
              "      <td>4.22</td>\n",
              "      <td>6.85</td>\n",
              "      <td>1</td>\n",
              "      <td>0</td>\n",
              "    </tr>\n",
              "    <tr>\n",
              "      <th>30</th>\n",
              "      <td>76.75</td>\n",
              "      <td>240</td>\n",
              "      <td>5.04</td>\n",
              "      <td>26.5</td>\n",
              "      <td>99.0</td>\n",
              "      <td>4.46</td>\n",
              "      <td>7.47</td>\n",
              "      <td>1</td>\n",
              "      <td>0</td>\n",
              "    </tr>\n",
              "    <tr>\n",
              "      <th>31</th>\n",
              "      <td>73.75</td>\n",
              "      <td>231</td>\n",
              "      <td>4.76</td>\n",
              "      <td>38.0</td>\n",
              "      <td>121.0</td>\n",
              "      <td>4.50</td>\n",
              "      <td>7.48</td>\n",
              "      <td>1</td>\n",
              "      <td>0</td>\n",
              "    </tr>\n",
              "    <tr>\n",
              "      <th>33</th>\n",
              "      <td>76.63</td>\n",
              "      <td>218</td>\n",
              "      <td>4.86</td>\n",
              "      <td>31.0</td>\n",
              "      <td>117.0</td>\n",
              "      <td>4.38</td>\n",
              "      <td>6.95</td>\n",
              "      <td>1</td>\n",
              "      <td>0</td>\n",
              "    </tr>\n",
              "    <tr>\n",
              "      <th>34</th>\n",
              "      <td>77.25</td>\n",
              "      <td>232</td>\n",
              "      <td>5.06</td>\n",
              "      <td>30.0</td>\n",
              "      <td>110.0</td>\n",
              "      <td>4.40</td>\n",
              "      <td>7.25</td>\n",
              "      <td>1</td>\n",
              "      <td>0</td>\n",
              "    </tr>\n",
              "    <tr>\n",
              "      <th>35</th>\n",
              "      <td>73.75</td>\n",
              "      <td>223</td>\n",
              "      <td>4.83</td>\n",
              "      <td>35.0</td>\n",
              "      <td>113.0</td>\n",
              "      <td>4.35</td>\n",
              "      <td>7.27</td>\n",
              "      <td>1</td>\n",
              "      <td>0</td>\n",
              "    </tr>\n",
              "    <tr>\n",
              "      <th>37</th>\n",
              "      <td>74.13</td>\n",
              "      <td>214</td>\n",
              "      <td>4.79</td>\n",
              "      <td>30.0</td>\n",
              "      <td>112.0</td>\n",
              "      <td>4.20</td>\n",
              "      <td>7.17</td>\n",
              "      <td>0</td>\n",
              "      <td>1</td>\n",
              "    </tr>\n",
              "    <tr>\n",
              "      <th>39</th>\n",
              "      <td>75.00</td>\n",
              "      <td>233</td>\n",
              "      <td>4.95</td>\n",
              "      <td>29.5</td>\n",
              "      <td>109.0</td>\n",
              "      <td>4.38</td>\n",
              "      <td>7.07</td>\n",
              "      <td>1</td>\n",
              "      <td>0</td>\n",
              "    </tr>\n",
              "    <tr>\n",
              "      <th>40</th>\n",
              "      <td>77.00</td>\n",
              "      <td>243</td>\n",
              "      <td>5.03</td>\n",
              "      <td>30.5</td>\n",
              "      <td>112.0</td>\n",
              "      <td>4.68</td>\n",
              "      <td>7.14</td>\n",
              "      <td>0</td>\n",
              "      <td>1</td>\n",
              "    </tr>\n",
              "    <tr>\n",
              "      <th>41</th>\n",
              "      <td>72.63</td>\n",
              "      <td>218</td>\n",
              "      <td>4.85</td>\n",
              "      <td>29.0</td>\n",
              "      <td>109.0</td>\n",
              "      <td>4.37</td>\n",
              "      <td>7.44</td>\n",
              "      <td>1</td>\n",
              "      <td>0</td>\n",
              "    </tr>\n",
              "    <tr>\n",
              "      <th>42</th>\n",
              "      <td>72.63</td>\n",
              "      <td>208</td>\n",
              "      <td>4.72</td>\n",
              "      <td>32.5</td>\n",
              "      <td>103.0</td>\n",
              "      <td>4.28</td>\n",
              "      <td>6.87</td>\n",
              "      <td>1</td>\n",
              "      <td>0</td>\n",
              "    </tr>\n",
              "    <tr>\n",
              "      <th>43</th>\n",
              "      <td>75.50</td>\n",
              "      <td>221</td>\n",
              "      <td>4.89</td>\n",
              "      <td>32.0</td>\n",
              "      <td>102.0</td>\n",
              "      <td>4.45</td>\n",
              "      <td>7.36</td>\n",
              "      <td>0</td>\n",
              "      <td>1</td>\n",
              "    </tr>\n",
              "    <tr>\n",
              "      <th>45</th>\n",
              "      <td>73.88</td>\n",
              "      <td>235</td>\n",
              "      <td>4.72</td>\n",
              "      <td>33.0</td>\n",
              "      <td>116.0</td>\n",
              "      <td>4.28</td>\n",
              "      <td>6.97</td>\n",
              "      <td>1</td>\n",
              "      <td>0</td>\n",
              "    </tr>\n",
              "    <tr>\n",
              "      <th>46</th>\n",
              "      <td>73.63</td>\n",
              "      <td>218</td>\n",
              "      <td>4.89</td>\n",
              "      <td>29.0</td>\n",
              "      <td>100.0</td>\n",
              "      <td>4.47</td>\n",
              "      <td>7.25</td>\n",
              "      <td>1</td>\n",
              "      <td>0</td>\n",
              "    </tr>\n",
              "    <tr>\n",
              "      <th>47</th>\n",
              "      <td>72.00</td>\n",
              "      <td>218</td>\n",
              "      <td>4.79</td>\n",
              "      <td>33.0</td>\n",
              "      <td>108.0</td>\n",
              "      <td>4.31</td>\n",
              "      <td>7.28</td>\n",
              "      <td>1</td>\n",
              "      <td>0</td>\n",
              "    </tr>\n",
              "    <tr>\n",
              "      <th>48</th>\n",
              "      <td>75.75</td>\n",
              "      <td>232</td>\n",
              "      <td>4.73</td>\n",
              "      <td>36.0</td>\n",
              "      <td>115.0</td>\n",
              "      <td>4.22</td>\n",
              "      <td>6.79</td>\n",
              "      <td>0</td>\n",
              "      <td>1</td>\n",
              "    </tr>\n",
              "    <tr>\n",
              "      <th>50</th>\n",
              "      <td>73.63</td>\n",
              "      <td>222</td>\n",
              "      <td>5.12</td>\n",
              "      <td>23.0</td>\n",
              "      <td>97.0</td>\n",
              "      <td>4.42</td>\n",
              "      <td>7.64</td>\n",
              "      <td>1</td>\n",
              "      <td>0</td>\n",
              "    </tr>\n",
              "    <tr>\n",
              "      <th>52</th>\n",
              "      <td>74.00</td>\n",
              "      <td>223</td>\n",
              "      <td>4.75</td>\n",
              "      <td>34.5</td>\n",
              "      <td>110.0</td>\n",
              "      <td>4.32</td>\n",
              "      <td>7.38</td>\n",
              "      <td>0</td>\n",
              "      <td>1</td>\n",
              "    </tr>\n",
              "  </tbody>\n",
              "</table>\n",
              "</div>"
            ],
            "text/plain": [
              "    Height_IN  Weight_LBS  40_Yard  ...  3Cone  Started_No  Started_Yes\n",
              "1       76.63         226     4.64  ...   7.42           1            0\n",
              "14      74.38         230     4.91  ...   7.75           1            0\n",
              "15      78.13         234     4.93  ...   7.42           0            1\n",
              "16      78.25         237     5.12  ...   7.56           1            0\n",
              "19      73.75         218     4.89  ...   6.99           1            0\n",
              "20      74.50         213     4.84  ...   6.97           0            1\n",
              "21      71.75         191     4.76  ...   7.06           1            0\n",
              "22      72.38         211     4.76  ...   6.96           1            0\n",
              "23      73.50         198     4.84  ...   6.80           1            0\n",
              "24      76.50         248     4.99  ...   7.30           1            0\n",
              "25      73.75         207     4.79  ...   7.43           1            0\n",
              "26      73.50         210     4.78  ...   7.11           1            0\n",
              "27      73.38         222     4.63  ...   7.03           1            0\n",
              "28      74.75         201     5.12  ...   7.48           1            0\n",
              "29      72.88         200     4.76  ...   6.85           1            0\n",
              "30      76.75         240     5.04  ...   7.47           1            0\n",
              "31      73.75         231     4.76  ...   7.48           1            0\n",
              "33      76.63         218     4.86  ...   6.95           1            0\n",
              "34      77.25         232     5.06  ...   7.25           1            0\n",
              "35      73.75         223     4.83  ...   7.27           1            0\n",
              "37      74.13         214     4.79  ...   7.17           0            1\n",
              "39      75.00         233     4.95  ...   7.07           1            0\n",
              "40      77.00         243     5.03  ...   7.14           0            1\n",
              "41      72.63         218     4.85  ...   7.44           1            0\n",
              "42      72.63         208     4.72  ...   6.87           1            0\n",
              "43      75.50         221     4.89  ...   7.36           0            1\n",
              "45      73.88         235     4.72  ...   6.97           1            0\n",
              "46      73.63         218     4.89  ...   7.25           1            0\n",
              "47      72.00         218     4.79  ...   7.28           1            0\n",
              "48      75.75         232     4.73  ...   6.79           0            1\n",
              "50      73.63         222     5.12  ...   7.64           1            0\n",
              "52      74.00         223     4.75  ...   7.38           0            1\n",
              "\n",
              "[32 rows x 9 columns]"
            ]
          },
          "metadata": {},
          "execution_count": 19
        }
      ]
    },
    {
      "cell_type": "code",
      "metadata": {
        "id": "ciA6hGI1pa2v"
      },
      "source": [
        "X.drop(columns=[\"Started_No\"],axis=1, inplace=True)"
      ],
      "execution_count": 20,
      "outputs": []
    },
    {
      "cell_type": "code",
      "metadata": {
        "colab": {
          "base_uri": "https://localhost:8080/",
          "height": 204
        },
        "id": "ok6gnlpoqfL7",
        "outputId": "12a5944f-ba87-460d-be05-3bbdafecbd67"
      },
      "source": [
        "X.head()"
      ],
      "execution_count": 21,
      "outputs": [
        {
          "output_type": "execute_result",
          "data": {
            "text/html": [
              "<div>\n",
              "<style scoped>\n",
              "    .dataframe tbody tr th:only-of-type {\n",
              "        vertical-align: middle;\n",
              "    }\n",
              "\n",
              "    .dataframe tbody tr th {\n",
              "        vertical-align: top;\n",
              "    }\n",
              "\n",
              "    .dataframe thead th {\n",
              "        text-align: right;\n",
              "    }\n",
              "</style>\n",
              "<table border=\"1\" class=\"dataframe\">\n",
              "  <thead>\n",
              "    <tr style=\"text-align: right;\">\n",
              "      <th></th>\n",
              "      <th>Height_IN</th>\n",
              "      <th>Weight_LBS</th>\n",
              "      <th>40_Yard</th>\n",
              "      <th>Vert_Leap_IN</th>\n",
              "      <th>Broad_Jump_IN</th>\n",
              "      <th>Shuttle</th>\n",
              "      <th>3Cone</th>\n",
              "      <th>Started_Yes</th>\n",
              "    </tr>\n",
              "  </thead>\n",
              "  <tbody>\n",
              "    <tr>\n",
              "      <th>1</th>\n",
              "      <td>76.63</td>\n",
              "      <td>226</td>\n",
              "      <td>4.64</td>\n",
              "      <td>29.5</td>\n",
              "      <td>115.0</td>\n",
              "      <td>4.56</td>\n",
              "      <td>7.42</td>\n",
              "      <td>0</td>\n",
              "    </tr>\n",
              "    <tr>\n",
              "      <th>14</th>\n",
              "      <td>74.38</td>\n",
              "      <td>230</td>\n",
              "      <td>4.91</td>\n",
              "      <td>30.0</td>\n",
              "      <td>117.0</td>\n",
              "      <td>4.31</td>\n",
              "      <td>7.75</td>\n",
              "      <td>0</td>\n",
              "    </tr>\n",
              "    <tr>\n",
              "      <th>15</th>\n",
              "      <td>78.13</td>\n",
              "      <td>234</td>\n",
              "      <td>4.93</td>\n",
              "      <td>29.0</td>\n",
              "      <td>105.0</td>\n",
              "      <td>4.48</td>\n",
              "      <td>7.42</td>\n",
              "      <td>1</td>\n",
              "    </tr>\n",
              "    <tr>\n",
              "      <th>16</th>\n",
              "      <td>78.25</td>\n",
              "      <td>237</td>\n",
              "      <td>5.12</td>\n",
              "      <td>27.0</td>\n",
              "      <td>101.0</td>\n",
              "      <td>4.60</td>\n",
              "      <td>7.56</td>\n",
              "      <td>0</td>\n",
              "    </tr>\n",
              "    <tr>\n",
              "      <th>19</th>\n",
              "      <td>73.75</td>\n",
              "      <td>218</td>\n",
              "      <td>4.89</td>\n",
              "      <td>32.5</td>\n",
              "      <td>112.0</td>\n",
              "      <td>4.32</td>\n",
              "      <td>6.99</td>\n",
              "      <td>0</td>\n",
              "    </tr>\n",
              "  </tbody>\n",
              "</table>\n",
              "</div>"
            ],
            "text/plain": [
              "    Height_IN  Weight_LBS  40_Yard  ...  Shuttle  3Cone  Started_Yes\n",
              "1       76.63         226     4.64  ...     4.56   7.42            0\n",
              "14      74.38         230     4.91  ...     4.31   7.75            0\n",
              "15      78.13         234     4.93  ...     4.48   7.42            1\n",
              "16      78.25         237     5.12  ...     4.60   7.56            0\n",
              "19      73.75         218     4.89  ...     4.32   6.99            0\n",
              "\n",
              "[5 rows x 8 columns]"
            ]
          },
          "metadata": {},
          "execution_count": 21
        }
      ]
    },
    {
      "cell_type": "code",
      "metadata": {
        "id": "aMyHo6sYqsTd"
      },
      "source": [
        "y=X[\"Started_Yes\"]\n",
        "X.drop(columns=[\"Started_Yes\"],axis=1, inplace=True)"
      ],
      "execution_count": 22,
      "outputs": []
    },
    {
      "cell_type": "code",
      "metadata": {
        "id": "8DsUi4F8YM2P"
      },
      "source": [
        "from sklearn.model_selection import train_test_split"
      ],
      "execution_count": 23,
      "outputs": []
    },
    {
      "cell_type": "code",
      "metadata": {
        "id": "iQXoy6_GtQH1"
      },
      "source": [
        "X_train, X_test, y_train, y_test = train_test_split(X, y, random_state=42)"
      ],
      "execution_count": 24,
      "outputs": []
    },
    {
      "cell_type": "code",
      "metadata": {
        "colab": {
          "base_uri": "https://localhost:8080/"
        },
        "id": "G8FMsWmKtp9T",
        "outputId": "0e9a38c3-0475-4337-be23-128617c39886"
      },
      "source": [
        "from sklearn.linear_model import LogisticRegression\n",
        "classifier = LogisticRegression()\n",
        "classifier"
      ],
      "execution_count": 25,
      "outputs": [
        {
          "output_type": "execute_result",
          "data": {
            "text/plain": [
              "LogisticRegression(C=1.0, class_weight=None, dual=False, fit_intercept=True,\n",
              "                   intercept_scaling=1, l1_ratio=None, max_iter=100,\n",
              "                   multi_class='auto', n_jobs=None, penalty='l2',\n",
              "                   random_state=None, solver='lbfgs', tol=0.0001, verbose=0,\n",
              "                   warm_start=False)"
            ]
          },
          "metadata": {},
          "execution_count": 25
        }
      ]
    },
    {
      "cell_type": "code",
      "metadata": {
        "colab": {
          "base_uri": "https://localhost:8080/"
        },
        "id": "CKIFuRpMuJ87",
        "outputId": "b0abb372-e4d2-459b-d2fe-b4856402c808"
      },
      "source": [
        "classifier.fit(X_train, y_train)\n",
        "print(classifier)"
      ],
      "execution_count": 26,
      "outputs": [
        {
          "output_type": "stream",
          "name": "stdout",
          "text": [
            "LogisticRegression(C=1.0, class_weight=None, dual=False, fit_intercept=True,\n",
            "                   intercept_scaling=1, l1_ratio=None, max_iter=100,\n",
            "                   multi_class='auto', n_jobs=None, penalty='l2',\n",
            "                   random_state=None, solver='lbfgs', tol=0.0001, verbose=0,\n",
            "                   warm_start=False)\n"
          ]
        },
        {
          "output_type": "stream",
          "name": "stderr",
          "text": [
            "/usr/local/lib/python3.7/dist-packages/sklearn/linear_model/_logistic.py:940: ConvergenceWarning: lbfgs failed to converge (status=1):\n",
            "STOP: TOTAL NO. of ITERATIONS REACHED LIMIT.\n",
            "\n",
            "Increase the number of iterations (max_iter) or scale the data as shown in:\n",
            "    https://scikit-learn.org/stable/modules/preprocessing.html\n",
            "Please also refer to the documentation for alternative solver options:\n",
            "    https://scikit-learn.org/stable/modules/linear_model.html#logistic-regression\n",
            "  extra_warning_msg=_LOGISTIC_SOLVER_CONVERGENCE_MSG)\n"
          ]
        }
      ]
    },
    {
      "cell_type": "code",
      "metadata": {
        "colab": {
          "base_uri": "https://localhost:8080/"
        },
        "id": "vGXqSwEiuMRA",
        "outputId": "85347f07-de8d-4f3c-d532-2ae59d91a060"
      },
      "source": [
        "print(f\"Training Data Score: {classifier.score(X_train, y_train)}\")\n",
        "print(f\"Testing Data Score: {classifier.score(X_test, y_test)}\")"
      ],
      "execution_count": 27,
      "outputs": [
        {
          "output_type": "stream",
          "name": "stdout",
          "text": [
            "Training Data Score: 0.7916666666666666\n",
            "Testing Data Score: 0.875\n"
          ]
        }
      ]
    },
    {
      "cell_type": "code",
      "metadata": {
        "colab": {
          "base_uri": "https://localhost:8080/"
        },
        "id": "1_wXCkGlYUgc",
        "outputId": "dcb4f3e1-c23f-41aa-9ab5-b0b4c125cd22"
      },
      "source": [
        "from sklearn.linear_model import LogisticRegression\n",
        "classifier = LogisticRegression()\n",
        "classifier"
      ],
      "execution_count": 28,
      "outputs": [
        {
          "output_type": "execute_result",
          "data": {
            "text/plain": [
              "LogisticRegression(C=1.0, class_weight=None, dual=False, fit_intercept=True,\n",
              "                   intercept_scaling=1, l1_ratio=None, max_iter=100,\n",
              "                   multi_class='auto', n_jobs=None, penalty='l2',\n",
              "                   random_state=None, solver='lbfgs', tol=0.0001, verbose=0,\n",
              "                   warm_start=False)"
            ]
          },
          "metadata": {},
          "execution_count": 28
        }
      ]
    },
    {
      "cell_type": "code",
      "metadata": {
        "colab": {
          "base_uri": "https://localhost:8080/"
        },
        "id": "URpnqP8jYZRq",
        "outputId": "c21f456c-dd0f-4a67-ba57-44836c3beddb"
      },
      "source": [
        "classifier.fit(X_train, y_train)\n",
        "print(classifier)"
      ],
      "execution_count": 29,
      "outputs": [
        {
          "output_type": "stream",
          "name": "stdout",
          "text": [
            "LogisticRegression(C=1.0, class_weight=None, dual=False, fit_intercept=True,\n",
            "                   intercept_scaling=1, l1_ratio=None, max_iter=100,\n",
            "                   multi_class='auto', n_jobs=None, penalty='l2',\n",
            "                   random_state=None, solver='lbfgs', tol=0.0001, verbose=0,\n",
            "                   warm_start=False)\n"
          ]
        },
        {
          "output_type": "stream",
          "name": "stderr",
          "text": [
            "/usr/local/lib/python3.7/dist-packages/sklearn/linear_model/_logistic.py:940: ConvergenceWarning: lbfgs failed to converge (status=1):\n",
            "STOP: TOTAL NO. of ITERATIONS REACHED LIMIT.\n",
            "\n",
            "Increase the number of iterations (max_iter) or scale the data as shown in:\n",
            "    https://scikit-learn.org/stable/modules/preprocessing.html\n",
            "Please also refer to the documentation for alternative solver options:\n",
            "    https://scikit-learn.org/stable/modules/linear_model.html#logistic-regression\n",
            "  extra_warning_msg=_LOGISTIC_SOLVER_CONVERGENCE_MSG)\n"
          ]
        }
      ]
    },
    {
      "cell_type": "code",
      "metadata": {
        "colab": {
          "base_uri": "https://localhost:8080/",
          "height": 150
        },
        "id": "wp_oQV2Snz3O",
        "outputId": "b7b1036f-0e33-4aeb-a77d-7fff8560aaab"
      },
      "source": [
        "def getTestData(Height_IN,\tWeight_LBS,\t40_Yard,\tVert_Leap_IN,\tBroad_Jump_IN,\tShuttle,\t3Cone):\n",
        "  testData = [Height_IN,\tWeight_LBS,\t40_Yard,\tVert_Leap_IN,\tBroad_Jump_IN,\tShuttle,\t3Cone]\n",
        "  return testData"
      ],
      "execution_count": 30,
      "outputs": [
        {
          "output_type": "error",
          "ename": "SyntaxError",
          "evalue": "ignored",
          "traceback": [
            "\u001b[0;36m  File \u001b[0;32m\"<ipython-input-30-2432332e620d>\"\u001b[0;36m, line \u001b[0;32m1\u001b[0m\n\u001b[0;31m    def getTestData(Height_IN,\tWeight_LBS,\t40_Yard,\tVert_Leap_IN,\tBroad_Jump_IN,\tShuttle,\t3Cone):\u001b[0m\n\u001b[0m                              \t           \t  ^\u001b[0m\n\u001b[0;31mSyntaxError\u001b[0m\u001b[0;31m:\u001b[0m invalid token\n"
          ]
        }
      ]
    },
    {
      "cell_type": "code",
      "metadata": {
        "id": "rBU9pY3onwvG"
      },
      "source": [
        "new_data=[75.13,\t229.0,\t\t4.69\t,\t35.0,\t125.0,\t4.51,\t7.33]"
      ],
      "execution_count": 31,
      "outputs": []
    },
    {
      "cell_type": "code",
      "metadata": {
        "id": "RjRbMnxVnfin"
      },
      "source": [
        "import numpy as np\n",
        "testData=np.reshape(new_data,(1,-1))"
      ],
      "execution_count": 32,
      "outputs": []
    },
    {
      "cell_type": "code",
      "metadata": {
        "colab": {
          "base_uri": "https://localhost:8080/"
        },
        "id": "H_oD3PvyuWQZ",
        "outputId": "fe78cb44-64b3-4e04-8dd4-9a7976cb21a4"
      },
      "source": [
        "predictions = classifier.predict(testData)\n",
        "print(\"Players are either 0 (not a starter) or 1 (stared)\")\n",
        "print(f\"The player was classified as: {predictions}\")"
      ],
      "execution_count": 33,
      "outputs": [
        {
          "output_type": "stream",
          "name": "stdout",
          "text": [
            "Players are either 0 (not a starter) or 1 (stared)\n",
            "The player was classified as: [0]\n"
          ]
        }
      ]
    },
    {
      "cell_type": "code",
      "metadata": {
        "id": "RKBHuVaN-my2"
      },
      "source": [
        ""
      ],
      "execution_count": null,
      "outputs": []
    }
  ]
}