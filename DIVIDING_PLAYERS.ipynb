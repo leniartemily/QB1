{
 "cells": [
  {
   "cell_type": "code",
   "execution_count": 1,
   "metadata": {},
   "outputs": [],
   "source": [
    "%matplotlib inline\n",
    "from matplotlib import pyplot as plt\n",
    "from sklearn.datasets import make_classification\n",
    "import numpy as np\n",
    "import pandas as pd\n",
    "from sklearn.ensemble import RandomForestClassifier\n",
    "from sklearn.linear_model import LogisticRegression\n",
    "from sklearn.model_selection import train_test_split\n",
    "from sklearn.preprocessing import StandardScaler"
   ]
  },
  {
   "cell_type": "code",
   "execution_count": 2,
   "metadata": {},
   "outputs": [],
   "source": [
    "# Create data\n",
    "X, y = make_classification(random_state=1, n_features=50, n_informative=5, n_redundant=0)\n",
    "X = pd.DataFrame(X)\n",
    "X_train, X_test, y_train, y_test = train_test_split(X, y, random_state=1)\n",
    "scaler = StandardScaler().fit(X_train)\n",
    "X_train_scaled = scaler.transform(X_train)\n",
    "X_test_scaled = scaler.transform(X_test)"
   ]
  },
  {
   "cell_type": "code",
   "execution_count": 3,
   "metadata": {},
   "outputs": [
    {
     "name": "stdout",
     "output_type": "stream",
     "text": [
      "Training Score: 1.0\n",
      "Testing Score: 0.76\n"
     ]
    }
   ],
   "source": [
    "# Fit random forest and get training and testing score\n",
    "clf = RandomForestClassifier(random_state=1, n_estimators=500).fit(X_train_scaled, y_train)\n",
    "print(f'Training Score: {clf.score(X_train_scaled, y_train)}')\n",
    "print(f'Testing Score: {clf.score(X_test_scaled, y_test)}')"
   ]
  },
  {
   "cell_type": "code",
   "execution_count": 4,
   "metadata": {
    "scrolled": true
   },
   "outputs": [
    {
     "data": {
      "text/plain": [
       "[0.1158815504475693,\n",
       " 0.07453436567100681,\n",
       " 0.046968195207630084,\n",
       " 0.04016023306039871,\n",
       " 0.04015419428831007,\n",
       " 0.02810453106050517,\n",
       " 0.02671949438890684,\n",
       " 0.026296936194676556,\n",
       " 0.020110628963464387,\n",
       " 0.019573634675624618,\n",
       " 0.018921281851285745,\n",
       " 0.018681997086357732,\n",
       " 0.018066327060667305,\n",
       " 0.017703720304657826,\n",
       " 0.017636404647630513,\n",
       " 0.01714386509283848,\n",
       " 0.016998606261999376,\n",
       " 0.016960034144608605,\n",
       " 0.016458478311831958,\n",
       " 0.016377343955939976,\n",
       " 0.01630978957701258,\n",
       " 0.01628945845280057,\n",
       " 0.015945977856005877,\n",
       " 0.01570844603864723,\n",
       " 0.015285821814690117,\n",
       " 0.015174318512632594,\n",
       " 0.01460334733652032,\n",
       " 0.014491512658113572,\n",
       " 0.014135826569021704,\n",
       " 0.014119431734667906,\n",
       " 0.014052668031241049,\n",
       " 0.01371403428948819,\n",
       " 0.013012551791774322,\n",
       " 0.012919788025217064,\n",
       " 0.012845830273989362,\n",
       " 0.01283269279005332,\n",
       " 0.012818787278565922,\n",
       " 0.012356420001611843,\n",
       " 0.012210537554674931,\n",
       " 0.012105068091378193,\n",
       " 0.011722456709341996,\n",
       " 0.011661082848989113,\n",
       " 0.011611943598024149,\n",
       " 0.011077225569599478,\n",
       " 0.011044340295867816,\n",
       " 0.01074293870794037,\n",
       " 0.010541496156955642,\n",
       " 0.010502946791448144,\n",
       " 0.00870600006005653,\n",
       " 0.008005437907759908]"
      ]
     },
     "execution_count": 4,
     "metadata": {},
     "output_type": "execute_result"
    }
   ],
   "source": [
    "# Get feature importance\n",
    "features = clf.feature_importances_\n",
    "features = sorted(features, reverse=True)\n",
    "features"
   ]
  },
  {
   "cell_type": "code",
   "execution_count": 5,
   "metadata": {},
   "outputs": [
    {
     "data": {
      "image/png": "[encoded data removed]",
      "text/plain": [
       "<Figure size 432x288 with 1 Axes>"
      ]
     },
     "metadata": {
      "needs_background": "light"
     },
     "output_type": "display_data"
    }
   ],
   "source": [
    "# Note the \"noisy\" features\n",
    "plt.bar(x = range(len(features)), height=features)\n",
    "plt.show()"
   ]
  },
  {
   "cell_type": "code",
   "execution_count": 6,
   "metadata": {},
   "outputs": [],
   "source": [
    "# Use SelectFromModel to only get the important features\n",
    "from sklearn.feature_selection import SelectFromModel\n",
    "\n",
    "# create selection object by passing in the model fitted above\n",
    "# Note, the original model MUST be one that has a feature_importances_ or coef_\n",
    "sel = SelectFromModel(clf)"
   ]
  },
  {
   "cell_type": "code",
   "execution_count": 7,
   "metadata": {},
   "outputs": [
    {
     "data": {
      "text/plain": [
       "array([False,  True,  True, False, False,  True, False, False, False,\n",
       "       False, False, False, False, False, False, False, False, False,\n",
       "       False, False, False,  True, False, False, False, False, False,\n",
       "       False,  True,  True, False, False,  True, False, False, False,\n",
       "       False, False,  True, False, False, False, False, False,  True,\n",
       "       False, False, False, False, False])"
      ]
     },
     "execution_count": 7,
     "metadata": {},
     "output_type": "execute_result"
    }
   ],
   "source": [
    "# Fit selection object to the training set\n",
    "sel.fit(X_train_scaled, y_train)\n",
    "\n",
    "# Displays an array indicating whether given feature is important\n",
    "sel.get_support()"
   ]
  },
  {
   "cell_type": "code",
   "execution_count": 8,
   "metadata": {},
   "outputs": [],
   "source": [
    "# Retrain entire model on just selected features by transforming features\n",
    "# Using the sklearn selection object\n",
    "X_selected_train, X_selected_test, y_train, y_test = train_test_split(sel.transform(X), y, random_state=1)\n",
    "\n",
    "# Scale the data\n",
    "scaler = StandardScaler().fit(X_selected_train)\n",
    "X_selected_train_scaled = scaler.transform(X_selected_train)\n",
    "X_selected_test_scaled = scaler.transform(X_selected_test)"
   ]
  },
  {
   "cell_type": "code",
   "execution_count": 9,
   "metadata": {},
   "outputs": [
    {
     "name": "stdout",
     "output_type": "stream",
     "text": [
      "Training Score: 1.0\n",
      "Testing Score: 0.68\n"
     ]
    }
   ],
   "source": [
    "# Let's see how logistic regression does with the non-selected dataset\n",
    "clf = LogisticRegression().fit(X_train_scaled, y_train)\n",
    "print(f'Training Score: {clf.score(X_train_scaled, y_train)}')\n",
    "print(f'Testing Score: {clf.score(X_test_scaled, y_test)}')"
   ]
  },
  {
   "cell_type": "code",
   "execution_count": null,
   "metadata": {},
   "outputs": [],
   "source": [
    "# Now let's see it with selected dataset\n",
    "clf = LogisticRegression()\n",
    "clf.fit(X_selected_train_scaled, y_train)\n",
    "print(f'Training Score: {clf.score(X_selected_train_scaled, y_train)}')\n",
    "print(f'Testing Score: {clf.score(X_selected_test_scaled, y_test)}')"
   ]
  }
 ],
 "metadata": {
  "kernelspec": {
   "display_name": "Python 3",
   "language": "python",
   "name": "python3"
  },
  "language_info": {
   "codemirror_mode": {
    "name": "ipython",
    "version": 3
   },
   "file_extension": ".py",
   "mimetype": "text/x-python",
   "name": "python",
   "nbconvert_exporter": "python",
   "pygments_lexer": "ipython3",
   "version": "3.8.5"
  }
 },
 "nbformat": 4,
 "nbformat_minor": 4
}
